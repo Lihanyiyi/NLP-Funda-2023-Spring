{
  "nbformat": 4,
  "nbformat_minor": 0,
  "metadata": {
    "colab": {
      "provenance": []
    },
    "kernelspec": {
      "name": "python3",
      "display_name": "Python 3"
    },
    "language_info": {
      "name": "python"
    }
  },
  "cells": [
    {
      "cell_type": "markdown",
      "source": [
        "# METEOR metric for machine translation\n",
        "\n",
        "## 比较BLEU与METEOR\n",
        "\n",
        "1. BLEU Score 更过采用 Precision 精确度而非 Recalled 召回率作为参考依据；基于评估是否所有生成的文本词都在目标语句中的方式进行判断，但是忽略了是否所有目标语句中的单词都被覆盖到，这是一个缺陷\n",
        "2. BLEU Score 并没有考虑到语义的相似度，对于文本单词需要进行一对一匹配，这就导致了对于同词根，不同词性的文本和同义词的文本无法正确评估的问题\n",
        "\n",
        "## METEOR 的计算方式\n",
        "\n",
        "### 计算对齐\n",
        "\n",
        "生成的文本和参考文本之间的对齐可以通过逐字匹配或使用相似性工具（字典/词嵌入）来进行\n",
        "\n",
        "![alighment](https://lh5.googleusercontent.com/EzipI6SGYKw6ou0JFHClX4TVP-SEZ6u6dK_pZ2RE2tBLJ0_xvHxaWCf2iMYewgGTaM8wNtX6UA6_G7uD4PdkasHhDEw6OtSWv0YWFgZfQkpHae8LBjUwSN-znW9jVPbh1ZHagTWhwnw)\n",
        "\n",
        "使用预测句子和目标句子中相邻单词集的映射进行对齐，如上图中，就存在三个映射，又叫做三个chunk\n",
        "\n",
        "虽然有多种对齐的方式，但是我们希望选择块数最少的对齐方式，这样我们可以避免将句子拆解得支离破碎\n",
        "\n",
        "比如两个句子：\n",
        "1. 预测句子：the cat likes the bone\n",
        "2. 目标句子：the cat loves the bone\n",
        "\n",
        "将`the` 与第一个 `the` 对齐，可以让句子的完整性得到最大程度的保留，而与动词后的 `the` 进行对齐，则会导致句子被拆散\n",
        "\n",
        "### 计算 F-Score\n",
        "\n",
        "m: 同时在预测文本和目标文本中出现的unnigram单词数量\n",
        "w_t：预测文本的unigram单词总数\n",
        "w_r：目标文本的unigram单词总数\n",
        "\n",
        "![formula](https://machinelearninginterview.com/wp-content/uploads/2021/11/image-6.png)\n",
        "\n",
        "对于上图中的例子，因为所有的文本都是一一对应的（虽然顺序不同），所以 F-mean Score = 1\n",
        "\n",
        "### 文本块惩罚机制\n",
        "\n",
        "文本块惩罚根据映射到目标文本块的数量给出惩罚，分块越多，越代表预测文本与目标文本之间存在差异。\n",
        "\n",
        "理想状态下，目标文本块与预测文本块之间没有任何文字和序列的差距，但是理想毕竟是理想\n",
        "\n",
        "惩罚公式：\n",
        "\n",
        "![chunk penalty formula](https://lh4.googleusercontent.com/W6acu9GSFZzD0q5t6mxrexm3Jt-5vZw82b0xmQszZ6pkWGnCSo7FeeCwOGoHgkoMXKpiZjs38atrBo_FYhuKb0b_INmDuFaW_cCw3cGX6_RSe9_JMbrvLKydXa0jcUwa3sfNYC_o-yQ)\n",
        "\n",
        "C:预测序列中chunk的数量\n",
        "U_m：预测序列中的unigram单词数量\n",
        "\n",
        "上图中的文本，惩罚系数为 \n",
        "\n",
        "P(above) = 0.5 x (3 / 6) ^ 3\n",
        "\n",
        "### METEOR 公式\n",
        "\n",
        "METEOR Score = Fmean(1-P)\n"
      ],
      "metadata": {
        "id": "Maxbnr1imyd-"
      }
    },
    {
      "cell_type": "code",
      "execution_count": null,
      "metadata": {
        "id": "iOqVK01zmpxf"
      },
      "outputs": [],
      "source": []
    }
  ]
}