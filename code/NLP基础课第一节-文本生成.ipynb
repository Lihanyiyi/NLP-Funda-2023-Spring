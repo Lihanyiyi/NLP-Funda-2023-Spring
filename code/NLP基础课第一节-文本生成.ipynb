{
  "nbformat": 4,
  "nbformat_minor": 0,
  "metadata": {
    "colab": {
      "provenance": []
    },
    "kernelspec": {
      "name": "python3",
      "display_name": "Python 3"
    },
    "language_info": {
      "name": "python"
    },
    "widgets": {
      "application/vnd.jupyter.widget-state+json": {
        "d05bc34d420c4c0d81907e1516e6bcca": {
          "model_module": "@jupyter-widgets/controls",
          "model_name": "HBoxModel",
          "model_module_version": "1.5.0",
          "state": {
            "_dom_classes": [],
            "_model_module": "@jupyter-widgets/controls",
            "_model_module_version": "1.5.0",
            "_model_name": "HBoxModel",
            "_view_count": null,
            "_view_module": "@jupyter-widgets/controls",
            "_view_module_version": "1.5.0",
            "_view_name": "HBoxView",
            "box_style": "",
            "children": [
              "IPY_MODEL_e1489316eda342fbac430eb641120102",
              "IPY_MODEL_25abcb188e854e9b9c8da372d2a7ab37",
              "IPY_MODEL_c8d06caca1a740509f9c5f3988482cef"
            ],
            "layout": "IPY_MODEL_af005c4580a8451c976770a689855280"
          }
        },
        "e1489316eda342fbac430eb641120102": {
          "model_module": "@jupyter-widgets/controls",
          "model_name": "HTMLModel",
          "model_module_version": "1.5.0",
          "state": {
            "_dom_classes": [],
            "_model_module": "@jupyter-widgets/controls",
            "_model_module_version": "1.5.0",
            "_model_name": "HTMLModel",
            "_view_count": null,
            "_view_module": "@jupyter-widgets/controls",
            "_view_module_version": "1.5.0",
            "_view_name": "HTMLView",
            "description": "",
            "description_tooltip": null,
            "layout": "IPY_MODEL_4658b480fea848e18b826111966bfd1d",
            "placeholder": "​",
            "style": "IPY_MODEL_edec820bef4648dc9a1ace10930d1756",
            "value": "Downloading (…)olve/main/vocab.json: 100%"
          }
        },
        "25abcb188e854e9b9c8da372d2a7ab37": {
          "model_module": "@jupyter-widgets/controls",
          "model_name": "FloatProgressModel",
          "model_module_version": "1.5.0",
          "state": {
            "_dom_classes": [],
            "_model_module": "@jupyter-widgets/controls",
            "_model_module_version": "1.5.0",
            "_model_name": "FloatProgressModel",
            "_view_count": null,
            "_view_module": "@jupyter-widgets/controls",
            "_view_module_version": "1.5.0",
            "_view_name": "ProgressView",
            "bar_style": "success",
            "description": "",
            "description_tooltip": null,
            "layout": "IPY_MODEL_17730984e18c4bddac03614c9b38707b",
            "max": 1042301,
            "min": 0,
            "orientation": "horizontal",
            "style": "IPY_MODEL_777ba8a294f547df96efe79ab4f28126",
            "value": 1042301
          }
        },
        "c8d06caca1a740509f9c5f3988482cef": {
          "model_module": "@jupyter-widgets/controls",
          "model_name": "HTMLModel",
          "model_module_version": "1.5.0",
          "state": {
            "_dom_classes": [],
            "_model_module": "@jupyter-widgets/controls",
            "_model_module_version": "1.5.0",
            "_model_name": "HTMLModel",
            "_view_count": null,
            "_view_module": "@jupyter-widgets/controls",
            "_view_module_version": "1.5.0",
            "_view_name": "HTMLView",
            "description": "",
            "description_tooltip": null,
            "layout": "IPY_MODEL_25c998cb5be345378e9a2a40bb7b9fa0",
            "placeholder": "​",
            "style": "IPY_MODEL_780efe4b69f942119d1230cd82362ba2",
            "value": " 1.04M/1.04M [00:00&lt;00:00, 7.65MB/s]"
          }
        },
        "af005c4580a8451c976770a689855280": {
          "model_module": "@jupyter-widgets/base",
          "model_name": "LayoutModel",
          "model_module_version": "1.2.0",
          "state": {
            "_model_module": "@jupyter-widgets/base",
            "_model_module_version": "1.2.0",
            "_model_name": "LayoutModel",
            "_view_count": null,
            "_view_module": "@jupyter-widgets/base",
            "_view_module_version": "1.2.0",
            "_view_name": "LayoutView",
            "align_content": null,
            "align_items": null,
            "align_self": null,
            "border": null,
            "bottom": null,
            "display": null,
            "flex": null,
            "flex_flow": null,
            "grid_area": null,
            "grid_auto_columns": null,
            "grid_auto_flow": null,
            "grid_auto_rows": null,
            "grid_column": null,
            "grid_gap": null,
            "grid_row": null,
            "grid_template_areas": null,
            "grid_template_columns": null,
            "grid_template_rows": null,
            "height": null,
            "justify_content": null,
            "justify_items": null,
            "left": null,
            "margin": null,
            "max_height": null,
            "max_width": null,
            "min_height": null,
            "min_width": null,
            "object_fit": null,
            "object_position": null,
            "order": null,
            "overflow": null,
            "overflow_x": null,
            "overflow_y": null,
            "padding": null,
            "right": null,
            "top": null,
            "visibility": null,
            "width": null
          }
        },
        "4658b480fea848e18b826111966bfd1d": {
          "model_module": "@jupyter-widgets/base",
          "model_name": "LayoutModel",
          "model_module_version": "1.2.0",
          "state": {
            "_model_module": "@jupyter-widgets/base",
            "_model_module_version": "1.2.0",
            "_model_name": "LayoutModel",
            "_view_count": null,
            "_view_module": "@jupyter-widgets/base",
            "_view_module_version": "1.2.0",
            "_view_name": "LayoutView",
            "align_content": null,
            "align_items": null,
            "align_self": null,
            "border": null,
            "bottom": null,
            "display": null,
            "flex": null,
            "flex_flow": null,
            "grid_area": null,
            "grid_auto_columns": null,
            "grid_auto_flow": null,
            "grid_auto_rows": null,
            "grid_column": null,
            "grid_gap": null,
            "grid_row": null,
            "grid_template_areas": null,
            "grid_template_columns": null,
            "grid_template_rows": null,
            "height": null,
            "justify_content": null,
            "justify_items": null,
            "left": null,
            "margin": null,
            "max_height": null,
            "max_width": null,
            "min_height": null,
            "min_width": null,
            "object_fit": null,
            "object_position": null,
            "order": null,
            "overflow": null,
            "overflow_x": null,
            "overflow_y": null,
            "padding": null,
            "right": null,
            "top": null,
            "visibility": null,
            "width": null
          }
        },
        "edec820bef4648dc9a1ace10930d1756": {
          "model_module": "@jupyter-widgets/controls",
          "model_name": "DescriptionStyleModel",
          "model_module_version": "1.5.0",
          "state": {
            "_model_module": "@jupyter-widgets/controls",
            "_model_module_version": "1.5.0",
            "_model_name": "DescriptionStyleModel",
            "_view_count": null,
            "_view_module": "@jupyter-widgets/base",
            "_view_module_version": "1.2.0",
            "_view_name": "StyleView",
            "description_width": ""
          }
        },
        "17730984e18c4bddac03614c9b38707b": {
          "model_module": "@jupyter-widgets/base",
          "model_name": "LayoutModel",
          "model_module_version": "1.2.0",
          "state": {
            "_model_module": "@jupyter-widgets/base",
            "_model_module_version": "1.2.0",
            "_model_name": "LayoutModel",
            "_view_count": null,
            "_view_module": "@jupyter-widgets/base",
            "_view_module_version": "1.2.0",
            "_view_name": "LayoutView",
            "align_content": null,
            "align_items": null,
            "align_self": null,
            "border": null,
            "bottom": null,
            "display": null,
            "flex": null,
            "flex_flow": null,
            "grid_area": null,
            "grid_auto_columns": null,
            "grid_auto_flow": null,
            "grid_auto_rows": null,
            "grid_column": null,
            "grid_gap": null,
            "grid_row": null,
            "grid_template_areas": null,
            "grid_template_columns": null,
            "grid_template_rows": null,
            "height": null,
            "justify_content": null,
            "justify_items": null,
            "left": null,
            "margin": null,
            "max_height": null,
            "max_width": null,
            "min_height": null,
            "min_width": null,
            "object_fit": null,
            "object_position": null,
            "order": null,
            "overflow": null,
            "overflow_x": null,
            "overflow_y": null,
            "padding": null,
            "right": null,
            "top": null,
            "visibility": null,
            "width": null
          }
        },
        "777ba8a294f547df96efe79ab4f28126": {
          "model_module": "@jupyter-widgets/controls",
          "model_name": "ProgressStyleModel",
          "model_module_version": "1.5.0",
          "state": {
            "_model_module": "@jupyter-widgets/controls",
            "_model_module_version": "1.5.0",
            "_model_name": "ProgressStyleModel",
            "_view_count": null,
            "_view_module": "@jupyter-widgets/base",
            "_view_module_version": "1.2.0",
            "_view_name": "StyleView",
            "bar_color": null,
            "description_width": ""
          }
        },
        "25c998cb5be345378e9a2a40bb7b9fa0": {
          "model_module": "@jupyter-widgets/base",
          "model_name": "LayoutModel",
          "model_module_version": "1.2.0",
          "state": {
            "_model_module": "@jupyter-widgets/base",
            "_model_module_version": "1.2.0",
            "_model_name": "LayoutModel",
            "_view_count": null,
            "_view_module": "@jupyter-widgets/base",
            "_view_module_version": "1.2.0",
            "_view_name": "LayoutView",
            "align_content": null,
            "align_items": null,
            "align_self": null,
            "border": null,
            "bottom": null,
            "display": null,
            "flex": null,
            "flex_flow": null,
            "grid_area": null,
            "grid_auto_columns": null,
            "grid_auto_flow": null,
            "grid_auto_rows": null,
            "grid_column": null,
            "grid_gap": null,
            "grid_row": null,
            "grid_template_areas": null,
            "grid_template_columns": null,
            "grid_template_rows": null,
            "height": null,
            "justify_content": null,
            "justify_items": null,
            "left": null,
            "margin": null,
            "max_height": null,
            "max_width": null,
            "min_height": null,
            "min_width": null,
            "object_fit": null,
            "object_position": null,
            "order": null,
            "overflow": null,
            "overflow_x": null,
            "overflow_y": null,
            "padding": null,
            "right": null,
            "top": null,
            "visibility": null,
            "width": null
          }
        },
        "780efe4b69f942119d1230cd82362ba2": {
          "model_module": "@jupyter-widgets/controls",
          "model_name": "DescriptionStyleModel",
          "model_module_version": "1.5.0",
          "state": {
            "_model_module": "@jupyter-widgets/controls",
            "_model_module_version": "1.5.0",
            "_model_name": "DescriptionStyleModel",
            "_view_count": null,
            "_view_module": "@jupyter-widgets/base",
            "_view_module_version": "1.2.0",
            "_view_name": "StyleView",
            "description_width": ""
          }
        },
        "209c28e540d94f368a8fda3caa25446b": {
          "model_module": "@jupyter-widgets/controls",
          "model_name": "HBoxModel",
          "model_module_version": "1.5.0",
          "state": {
            "_dom_classes": [],
            "_model_module": "@jupyter-widgets/controls",
            "_model_module_version": "1.5.0",
            "_model_name": "HBoxModel",
            "_view_count": null,
            "_view_module": "@jupyter-widgets/controls",
            "_view_module_version": "1.5.0",
            "_view_name": "HBoxView",
            "box_style": "",
            "children": [
              "IPY_MODEL_83dc401973f6480fb48dc65f1d4c51fd",
              "IPY_MODEL_68b59cb5f48a4ef5b63f17bdc95ac067",
              "IPY_MODEL_f5f3f85f011e478da6622586a2eac23f"
            ],
            "layout": "IPY_MODEL_c4560c6c28fc44d28c036bc1d3294798"
          }
        },
        "83dc401973f6480fb48dc65f1d4c51fd": {
          "model_module": "@jupyter-widgets/controls",
          "model_name": "HTMLModel",
          "model_module_version": "1.5.0",
          "state": {
            "_dom_classes": [],
            "_model_module": "@jupyter-widgets/controls",
            "_model_module_version": "1.5.0",
            "_model_name": "HTMLModel",
            "_view_count": null,
            "_view_module": "@jupyter-widgets/controls",
            "_view_module_version": "1.5.0",
            "_view_name": "HTMLView",
            "description": "",
            "description_tooltip": null,
            "layout": "IPY_MODEL_a1dd8aa677f0447892fce67737ff34d3",
            "placeholder": "​",
            "style": "IPY_MODEL_af239ebc57934dc9875d5a5e51045ef8",
            "value": "Downloading (…)olve/main/merges.txt: 100%"
          }
        },
        "68b59cb5f48a4ef5b63f17bdc95ac067": {
          "model_module": "@jupyter-widgets/controls",
          "model_name": "FloatProgressModel",
          "model_module_version": "1.5.0",
          "state": {
            "_dom_classes": [],
            "_model_module": "@jupyter-widgets/controls",
            "_model_module_version": "1.5.0",
            "_model_name": "FloatProgressModel",
            "_view_count": null,
            "_view_module": "@jupyter-widgets/controls",
            "_view_module_version": "1.5.0",
            "_view_name": "ProgressView",
            "bar_style": "success",
            "description": "",
            "description_tooltip": null,
            "layout": "IPY_MODEL_913923d7003b4342b1cf68697d6cf0a8",
            "max": 456318,
            "min": 0,
            "orientation": "horizontal",
            "style": "IPY_MODEL_b7522e7118fc4e8d84a2a73d17350266",
            "value": 456318
          }
        },
        "f5f3f85f011e478da6622586a2eac23f": {
          "model_module": "@jupyter-widgets/controls",
          "model_name": "HTMLModel",
          "model_module_version": "1.5.0",
          "state": {
            "_dom_classes": [],
            "_model_module": "@jupyter-widgets/controls",
            "_model_module_version": "1.5.0",
            "_model_name": "HTMLModel",
            "_view_count": null,
            "_view_module": "@jupyter-widgets/controls",
            "_view_module_version": "1.5.0",
            "_view_name": "HTMLView",
            "description": "",
            "description_tooltip": null,
            "layout": "IPY_MODEL_7f4e2ea1b4be4267990d0bd5bbbd047d",
            "placeholder": "​",
            "style": "IPY_MODEL_ffd0dc80c4304607980ea4410e09abe8",
            "value": " 456k/456k [00:00&lt;00:00, 5.08MB/s]"
          }
        },
        "c4560c6c28fc44d28c036bc1d3294798": {
          "model_module": "@jupyter-widgets/base",
          "model_name": "LayoutModel",
          "model_module_version": "1.2.0",
          "state": {
            "_model_module": "@jupyter-widgets/base",
            "_model_module_version": "1.2.0",
            "_model_name": "LayoutModel",
            "_view_count": null,
            "_view_module": "@jupyter-widgets/base",
            "_view_module_version": "1.2.0",
            "_view_name": "LayoutView",
            "align_content": null,
            "align_items": null,
            "align_self": null,
            "border": null,
            "bottom": null,
            "display": null,
            "flex": null,
            "flex_flow": null,
            "grid_area": null,
            "grid_auto_columns": null,
            "grid_auto_flow": null,
            "grid_auto_rows": null,
            "grid_column": null,
            "grid_gap": null,
            "grid_row": null,
            "grid_template_areas": null,
            "grid_template_columns": null,
            "grid_template_rows": null,
            "height": null,
            "justify_content": null,
            "justify_items": null,
            "left": null,
            "margin": null,
            "max_height": null,
            "max_width": null,
            "min_height": null,
            "min_width": null,
            "object_fit": null,
            "object_position": null,
            "order": null,
            "overflow": null,
            "overflow_x": null,
            "overflow_y": null,
            "padding": null,
            "right": null,
            "top": null,
            "visibility": null,
            "width": null
          }
        },
        "a1dd8aa677f0447892fce67737ff34d3": {
          "model_module": "@jupyter-widgets/base",
          "model_name": "LayoutModel",
          "model_module_version": "1.2.0",
          "state": {
            "_model_module": "@jupyter-widgets/base",
            "_model_module_version": "1.2.0",
            "_model_name": "LayoutModel",
            "_view_count": null,
            "_view_module": "@jupyter-widgets/base",
            "_view_module_version": "1.2.0",
            "_view_name": "LayoutView",
            "align_content": null,
            "align_items": null,
            "align_self": null,
            "border": null,
            "bottom": null,
            "display": null,
            "flex": null,
            "flex_flow": null,
            "grid_area": null,
            "grid_auto_columns": null,
            "grid_auto_flow": null,
            "grid_auto_rows": null,
            "grid_column": null,
            "grid_gap": null,
            "grid_row": null,
            "grid_template_areas": null,
            "grid_template_columns": null,
            "grid_template_rows": null,
            "height": null,
            "justify_content": null,
            "justify_items": null,
            "left": null,
            "margin": null,
            "max_height": null,
            "max_width": null,
            "min_height": null,
            "min_width": null,
            "object_fit": null,
            "object_position": null,
            "order": null,
            "overflow": null,
            "overflow_x": null,
            "overflow_y": null,
            "padding": null,
            "right": null,
            "top": null,
            "visibility": null,
            "width": null
          }
        },
        "af239ebc57934dc9875d5a5e51045ef8": {
          "model_module": "@jupyter-widgets/controls",
          "model_name": "DescriptionStyleModel",
          "model_module_version": "1.5.0",
          "state": {
            "_model_module": "@jupyter-widgets/controls",
            "_model_module_version": "1.5.0",
            "_model_name": "DescriptionStyleModel",
            "_view_count": null,
            "_view_module": "@jupyter-widgets/base",
            "_view_module_version": "1.2.0",
            "_view_name": "StyleView",
            "description_width": ""
          }
        },
        "913923d7003b4342b1cf68697d6cf0a8": {
          "model_module": "@jupyter-widgets/base",
          "model_name": "LayoutModel",
          "model_module_version": "1.2.0",
          "state": {
            "_model_module": "@jupyter-widgets/base",
            "_model_module_version": "1.2.0",
            "_model_name": "LayoutModel",
            "_view_count": null,
            "_view_module": "@jupyter-widgets/base",
            "_view_module_version": "1.2.0",
            "_view_name": "LayoutView",
            "align_content": null,
            "align_items": null,
            "align_self": null,
            "border": null,
            "bottom": null,
            "display": null,
            "flex": null,
            "flex_flow": null,
            "grid_area": null,
            "grid_auto_columns": null,
            "grid_auto_flow": null,
            "grid_auto_rows": null,
            "grid_column": null,
            "grid_gap": null,
            "grid_row": null,
            "grid_template_areas": null,
            "grid_template_columns": null,
            "grid_template_rows": null,
            "height": null,
            "justify_content": null,
            "justify_items": null,
            "left": null,
            "margin": null,
            "max_height": null,
            "max_width": null,
            "min_height": null,
            "min_width": null,
            "object_fit": null,
            "object_position": null,
            "order": null,
            "overflow": null,
            "overflow_x": null,
            "overflow_y": null,
            "padding": null,
            "right": null,
            "top": null,
            "visibility": null,
            "width": null
          }
        },
        "b7522e7118fc4e8d84a2a73d17350266": {
          "model_module": "@jupyter-widgets/controls",
          "model_name": "ProgressStyleModel",
          "model_module_version": "1.5.0",
          "state": {
            "_model_module": "@jupyter-widgets/controls",
            "_model_module_version": "1.5.0",
            "_model_name": "ProgressStyleModel",
            "_view_count": null,
            "_view_module": "@jupyter-widgets/base",
            "_view_module_version": "1.2.0",
            "_view_name": "StyleView",
            "bar_color": null,
            "description_width": ""
          }
        },
        "7f4e2ea1b4be4267990d0bd5bbbd047d": {
          "model_module": "@jupyter-widgets/base",
          "model_name": "LayoutModel",
          "model_module_version": "1.2.0",
          "state": {
            "_model_module": "@jupyter-widgets/base",
            "_model_module_version": "1.2.0",
            "_model_name": "LayoutModel",
            "_view_count": null,
            "_view_module": "@jupyter-widgets/base",
            "_view_module_version": "1.2.0",
            "_view_name": "LayoutView",
            "align_content": null,
            "align_items": null,
            "align_self": null,
            "border": null,
            "bottom": null,
            "display": null,
            "flex": null,
            "flex_flow": null,
            "grid_area": null,
            "grid_auto_columns": null,
            "grid_auto_flow": null,
            "grid_auto_rows": null,
            "grid_column": null,
            "grid_gap": null,
            "grid_row": null,
            "grid_template_areas": null,
            "grid_template_columns": null,
            "grid_template_rows": null,
            "height": null,
            "justify_content": null,
            "justify_items": null,
            "left": null,
            "margin": null,
            "max_height": null,
            "max_width": null,
            "min_height": null,
            "min_width": null,
            "object_fit": null,
            "object_position": null,
            "order": null,
            "overflow": null,
            "overflow_x": null,
            "overflow_y": null,
            "padding": null,
            "right": null,
            "top": null,
            "visibility": null,
            "width": null
          }
        },
        "ffd0dc80c4304607980ea4410e09abe8": {
          "model_module": "@jupyter-widgets/controls",
          "model_name": "DescriptionStyleModel",
          "model_module_version": "1.5.0",
          "state": {
            "_model_module": "@jupyter-widgets/controls",
            "_model_module_version": "1.5.0",
            "_model_name": "DescriptionStyleModel",
            "_view_count": null,
            "_view_module": "@jupyter-widgets/base",
            "_view_module_version": "1.2.0",
            "_view_name": "StyleView",
            "description_width": ""
          }
        },
        "4efd93976667486e993f762ebb41da90": {
          "model_module": "@jupyter-widgets/controls",
          "model_name": "HBoxModel",
          "model_module_version": "1.5.0",
          "state": {
            "_dom_classes": [],
            "_model_module": "@jupyter-widgets/controls",
            "_model_module_version": "1.5.0",
            "_model_name": "HBoxModel",
            "_view_count": null,
            "_view_module": "@jupyter-widgets/controls",
            "_view_module_version": "1.5.0",
            "_view_name": "HBoxView",
            "box_style": "",
            "children": [
              "IPY_MODEL_e4a382875f7a4ce4b1019af7282887f6",
              "IPY_MODEL_3f43e82e964440d189014ac29962de29",
              "IPY_MODEL_16f7dcbbcf8743b580e12421217ce498"
            ],
            "layout": "IPY_MODEL_725a6214f8f144b09d96f27787b2d568"
          }
        },
        "e4a382875f7a4ce4b1019af7282887f6": {
          "model_module": "@jupyter-widgets/controls",
          "model_name": "HTMLModel",
          "model_module_version": "1.5.0",
          "state": {
            "_dom_classes": [],
            "_model_module": "@jupyter-widgets/controls",
            "_model_module_version": "1.5.0",
            "_model_name": "HTMLModel",
            "_view_count": null,
            "_view_module": "@jupyter-widgets/controls",
            "_view_module_version": "1.5.0",
            "_view_name": "HTMLView",
            "description": "",
            "description_tooltip": null,
            "layout": "IPY_MODEL_0be834e312294d9ba5a26055026efe06",
            "placeholder": "​",
            "style": "IPY_MODEL_c717c42d29d64ecfb37aacf7e49f5a4b",
            "value": "Downloading (…)lve/main/config.json: 100%"
          }
        },
        "3f43e82e964440d189014ac29962de29": {
          "model_module": "@jupyter-widgets/controls",
          "model_name": "FloatProgressModel",
          "model_module_version": "1.5.0",
          "state": {
            "_dom_classes": [],
            "_model_module": "@jupyter-widgets/controls",
            "_model_module_version": "1.5.0",
            "_model_name": "FloatProgressModel",
            "_view_count": null,
            "_view_module": "@jupyter-widgets/controls",
            "_view_module_version": "1.5.0",
            "_view_name": "ProgressView",
            "bar_style": "success",
            "description": "",
            "description_tooltip": null,
            "layout": "IPY_MODEL_e4be291d9efa45f487d29388a8eac0e9",
            "max": 665,
            "min": 0,
            "orientation": "horizontal",
            "style": "IPY_MODEL_7868c688b07a47acabfe328456f0d80e",
            "value": 665
          }
        },
        "16f7dcbbcf8743b580e12421217ce498": {
          "model_module": "@jupyter-widgets/controls",
          "model_name": "HTMLModel",
          "model_module_version": "1.5.0",
          "state": {
            "_dom_classes": [],
            "_model_module": "@jupyter-widgets/controls",
            "_model_module_version": "1.5.0",
            "_model_name": "HTMLModel",
            "_view_count": null,
            "_view_module": "@jupyter-widgets/controls",
            "_view_module_version": "1.5.0",
            "_view_name": "HTMLView",
            "description": "",
            "description_tooltip": null,
            "layout": "IPY_MODEL_0ded95a14c254fcdb80c6097b5c22f32",
            "placeholder": "​",
            "style": "IPY_MODEL_6491324f6b004f429744f38f3ba34965",
            "value": " 665/665 [00:00&lt;00:00, 22.4kB/s]"
          }
        },
        "725a6214f8f144b09d96f27787b2d568": {
          "model_module": "@jupyter-widgets/base",
          "model_name": "LayoutModel",
          "model_module_version": "1.2.0",
          "state": {
            "_model_module": "@jupyter-widgets/base",
            "_model_module_version": "1.2.0",
            "_model_name": "LayoutModel",
            "_view_count": null,
            "_view_module": "@jupyter-widgets/base",
            "_view_module_version": "1.2.0",
            "_view_name": "LayoutView",
            "align_content": null,
            "align_items": null,
            "align_self": null,
            "border": null,
            "bottom": null,
            "display": null,
            "flex": null,
            "flex_flow": null,
            "grid_area": null,
            "grid_auto_columns": null,
            "grid_auto_flow": null,
            "grid_auto_rows": null,
            "grid_column": null,
            "grid_gap": null,
            "grid_row": null,
            "grid_template_areas": null,
            "grid_template_columns": null,
            "grid_template_rows": null,
            "height": null,
            "justify_content": null,
            "justify_items": null,
            "left": null,
            "margin": null,
            "max_height": null,
            "max_width": null,
            "min_height": null,
            "min_width": null,
            "object_fit": null,
            "object_position": null,
            "order": null,
            "overflow": null,
            "overflow_x": null,
            "overflow_y": null,
            "padding": null,
            "right": null,
            "top": null,
            "visibility": null,
            "width": null
          }
        },
        "0be834e312294d9ba5a26055026efe06": {
          "model_module": "@jupyter-widgets/base",
          "model_name": "LayoutModel",
          "model_module_version": "1.2.0",
          "state": {
            "_model_module": "@jupyter-widgets/base",
            "_model_module_version": "1.2.0",
            "_model_name": "LayoutModel",
            "_view_count": null,
            "_view_module": "@jupyter-widgets/base",
            "_view_module_version": "1.2.0",
            "_view_name": "LayoutView",
            "align_content": null,
            "align_items": null,
            "align_self": null,
            "border": null,
            "bottom": null,
            "display": null,
            "flex": null,
            "flex_flow": null,
            "grid_area": null,
            "grid_auto_columns": null,
            "grid_auto_flow": null,
            "grid_auto_rows": null,
            "grid_column": null,
            "grid_gap": null,
            "grid_row": null,
            "grid_template_areas": null,
            "grid_template_columns": null,
            "grid_template_rows": null,
            "height": null,
            "justify_content": null,
            "justify_items": null,
            "left": null,
            "margin": null,
            "max_height": null,
            "max_width": null,
            "min_height": null,
            "min_width": null,
            "object_fit": null,
            "object_position": null,
            "order": null,
            "overflow": null,
            "overflow_x": null,
            "overflow_y": null,
            "padding": null,
            "right": null,
            "top": null,
            "visibility": null,
            "width": null
          }
        },
        "c717c42d29d64ecfb37aacf7e49f5a4b": {
          "model_module": "@jupyter-widgets/controls",
          "model_name": "DescriptionStyleModel",
          "model_module_version": "1.5.0",
          "state": {
            "_model_module": "@jupyter-widgets/controls",
            "_model_module_version": "1.5.0",
            "_model_name": "DescriptionStyleModel",
            "_view_count": null,
            "_view_module": "@jupyter-widgets/base",
            "_view_module_version": "1.2.0",
            "_view_name": "StyleView",
            "description_width": ""
          }
        },
        "e4be291d9efa45f487d29388a8eac0e9": {
          "model_module": "@jupyter-widgets/base",
          "model_name": "LayoutModel",
          "model_module_version": "1.2.0",
          "state": {
            "_model_module": "@jupyter-widgets/base",
            "_model_module_version": "1.2.0",
            "_model_name": "LayoutModel",
            "_view_count": null,
            "_view_module": "@jupyter-widgets/base",
            "_view_module_version": "1.2.0",
            "_view_name": "LayoutView",
            "align_content": null,
            "align_items": null,
            "align_self": null,
            "border": null,
            "bottom": null,
            "display": null,
            "flex": null,
            "flex_flow": null,
            "grid_area": null,
            "grid_auto_columns": null,
            "grid_auto_flow": null,
            "grid_auto_rows": null,
            "grid_column": null,
            "grid_gap": null,
            "grid_row": null,
            "grid_template_areas": null,
            "grid_template_columns": null,
            "grid_template_rows": null,
            "height": null,
            "justify_content": null,
            "justify_items": null,
            "left": null,
            "margin": null,
            "max_height": null,
            "max_width": null,
            "min_height": null,
            "min_width": null,
            "object_fit": null,
            "object_position": null,
            "order": null,
            "overflow": null,
            "overflow_x": null,
            "overflow_y": null,
            "padding": null,
            "right": null,
            "top": null,
            "visibility": null,
            "width": null
          }
        },
        "7868c688b07a47acabfe328456f0d80e": {
          "model_module": "@jupyter-widgets/controls",
          "model_name": "ProgressStyleModel",
          "model_module_version": "1.5.0",
          "state": {
            "_model_module": "@jupyter-widgets/controls",
            "_model_module_version": "1.5.0",
            "_model_name": "ProgressStyleModel",
            "_view_count": null,
            "_view_module": "@jupyter-widgets/base",
            "_view_module_version": "1.2.0",
            "_view_name": "StyleView",
            "bar_color": null,
            "description_width": ""
          }
        },
        "0ded95a14c254fcdb80c6097b5c22f32": {
          "model_module": "@jupyter-widgets/base",
          "model_name": "LayoutModel",
          "model_module_version": "1.2.0",
          "state": {
            "_model_module": "@jupyter-widgets/base",
            "_model_module_version": "1.2.0",
            "_model_name": "LayoutModel",
            "_view_count": null,
            "_view_module": "@jupyter-widgets/base",
            "_view_module_version": "1.2.0",
            "_view_name": "LayoutView",
            "align_content": null,
            "align_items": null,
            "align_self": null,
            "border": null,
            "bottom": null,
            "display": null,
            "flex": null,
            "flex_flow": null,
            "grid_area": null,
            "grid_auto_columns": null,
            "grid_auto_flow": null,
            "grid_auto_rows": null,
            "grid_column": null,
            "grid_gap": null,
            "grid_row": null,
            "grid_template_areas": null,
            "grid_template_columns": null,
            "grid_template_rows": null,
            "height": null,
            "justify_content": null,
            "justify_items": null,
            "left": null,
            "margin": null,
            "max_height": null,
            "max_width": null,
            "min_height": null,
            "min_width": null,
            "object_fit": null,
            "object_position": null,
            "order": null,
            "overflow": null,
            "overflow_x": null,
            "overflow_y": null,
            "padding": null,
            "right": null,
            "top": null,
            "visibility": null,
            "width": null
          }
        },
        "6491324f6b004f429744f38f3ba34965": {
          "model_module": "@jupyter-widgets/controls",
          "model_name": "DescriptionStyleModel",
          "model_module_version": "1.5.0",
          "state": {
            "_model_module": "@jupyter-widgets/controls",
            "_model_module_version": "1.5.0",
            "_model_name": "DescriptionStyleModel",
            "_view_count": null,
            "_view_module": "@jupyter-widgets/base",
            "_view_module_version": "1.2.0",
            "_view_name": "StyleView",
            "description_width": ""
          }
        },
        "9ab550b78b30411c863703372ba5d335": {
          "model_module": "@jupyter-widgets/controls",
          "model_name": "HBoxModel",
          "model_module_version": "1.5.0",
          "state": {
            "_dom_classes": [],
            "_model_module": "@jupyter-widgets/controls",
            "_model_module_version": "1.5.0",
            "_model_name": "HBoxModel",
            "_view_count": null,
            "_view_module": "@jupyter-widgets/controls",
            "_view_module_version": "1.5.0",
            "_view_name": "HBoxView",
            "box_style": "",
            "children": [
              "IPY_MODEL_a7d213cd407d401e8c77eddf4135a29b",
              "IPY_MODEL_3be44237fba04c8db751d6c017a0bef6",
              "IPY_MODEL_8aafaab8a7f8440180edd33aae942eae"
            ],
            "layout": "IPY_MODEL_bec3690db97142a38b86d9969a8accfc"
          }
        },
        "a7d213cd407d401e8c77eddf4135a29b": {
          "model_module": "@jupyter-widgets/controls",
          "model_name": "HTMLModel",
          "model_module_version": "1.5.0",
          "state": {
            "_dom_classes": [],
            "_model_module": "@jupyter-widgets/controls",
            "_model_module_version": "1.5.0",
            "_model_name": "HTMLModel",
            "_view_count": null,
            "_view_module": "@jupyter-widgets/controls",
            "_view_module_version": "1.5.0",
            "_view_name": "HTMLView",
            "description": "",
            "description_tooltip": null,
            "layout": "IPY_MODEL_a53ef6c3c7674db7927763f3ee2a1b7d",
            "placeholder": "​",
            "style": "IPY_MODEL_5401ff94bc1c48ba96dbd6bac1126d48",
            "value": "Downloading tf_model.h5: 100%"
          }
        },
        "3be44237fba04c8db751d6c017a0bef6": {
          "model_module": "@jupyter-widgets/controls",
          "model_name": "FloatProgressModel",
          "model_module_version": "1.5.0",
          "state": {
            "_dom_classes": [],
            "_model_module": "@jupyter-widgets/controls",
            "_model_module_version": "1.5.0",
            "_model_name": "FloatProgressModel",
            "_view_count": null,
            "_view_module": "@jupyter-widgets/controls",
            "_view_module_version": "1.5.0",
            "_view_name": "ProgressView",
            "bar_style": "success",
            "description": "",
            "description_tooltip": null,
            "layout": "IPY_MODEL_104aa2811cb8432ebf27ce3fd799d7e4",
            "max": 497933648,
            "min": 0,
            "orientation": "horizontal",
            "style": "IPY_MODEL_c20f07263478444ea40f769e5885f7be",
            "value": 497933648
          }
        },
        "8aafaab8a7f8440180edd33aae942eae": {
          "model_module": "@jupyter-widgets/controls",
          "model_name": "HTMLModel",
          "model_module_version": "1.5.0",
          "state": {
            "_dom_classes": [],
            "_model_module": "@jupyter-widgets/controls",
            "_model_module_version": "1.5.0",
            "_model_name": "HTMLModel",
            "_view_count": null,
            "_view_module": "@jupyter-widgets/controls",
            "_view_module_version": "1.5.0",
            "_view_name": "HTMLView",
            "description": "",
            "description_tooltip": null,
            "layout": "IPY_MODEL_88916c91819f485d940e7f082a0fca02",
            "placeholder": "​",
            "style": "IPY_MODEL_c5b1994f7afd4e5aaed1bc882d9fb985",
            "value": " 498M/498M [00:11&lt;00:00, 49.6MB/s]"
          }
        },
        "bec3690db97142a38b86d9969a8accfc": {
          "model_module": "@jupyter-widgets/base",
          "model_name": "LayoutModel",
          "model_module_version": "1.2.0",
          "state": {
            "_model_module": "@jupyter-widgets/base",
            "_model_module_version": "1.2.0",
            "_model_name": "LayoutModel",
            "_view_count": null,
            "_view_module": "@jupyter-widgets/base",
            "_view_module_version": "1.2.0",
            "_view_name": "LayoutView",
            "align_content": null,
            "align_items": null,
            "align_self": null,
            "border": null,
            "bottom": null,
            "display": null,
            "flex": null,
            "flex_flow": null,
            "grid_area": null,
            "grid_auto_columns": null,
            "grid_auto_flow": null,
            "grid_auto_rows": null,
            "grid_column": null,
            "grid_gap": null,
            "grid_row": null,
            "grid_template_areas": null,
            "grid_template_columns": null,
            "grid_template_rows": null,
            "height": null,
            "justify_content": null,
            "justify_items": null,
            "left": null,
            "margin": null,
            "max_height": null,
            "max_width": null,
            "min_height": null,
            "min_width": null,
            "object_fit": null,
            "object_position": null,
            "order": null,
            "overflow": null,
            "overflow_x": null,
            "overflow_y": null,
            "padding": null,
            "right": null,
            "top": null,
            "visibility": null,
            "width": null
          }
        },
        "a53ef6c3c7674db7927763f3ee2a1b7d": {
          "model_module": "@jupyter-widgets/base",
          "model_name": "LayoutModel",
          "model_module_version": "1.2.0",
          "state": {
            "_model_module": "@jupyter-widgets/base",
            "_model_module_version": "1.2.0",
            "_model_name": "LayoutModel",
            "_view_count": null,
            "_view_module": "@jupyter-widgets/base",
            "_view_module_version": "1.2.0",
            "_view_name": "LayoutView",
            "align_content": null,
            "align_items": null,
            "align_self": null,
            "border": null,
            "bottom": null,
            "display": null,
            "flex": null,
            "flex_flow": null,
            "grid_area": null,
            "grid_auto_columns": null,
            "grid_auto_flow": null,
            "grid_auto_rows": null,
            "grid_column": null,
            "grid_gap": null,
            "grid_row": null,
            "grid_template_areas": null,
            "grid_template_columns": null,
            "grid_template_rows": null,
            "height": null,
            "justify_content": null,
            "justify_items": null,
            "left": null,
            "margin": null,
            "max_height": null,
            "max_width": null,
            "min_height": null,
            "min_width": null,
            "object_fit": null,
            "object_position": null,
            "order": null,
            "overflow": null,
            "overflow_x": null,
            "overflow_y": null,
            "padding": null,
            "right": null,
            "top": null,
            "visibility": null,
            "width": null
          }
        },
        "5401ff94bc1c48ba96dbd6bac1126d48": {
          "model_module": "@jupyter-widgets/controls",
          "model_name": "DescriptionStyleModel",
          "model_module_version": "1.5.0",
          "state": {
            "_model_module": "@jupyter-widgets/controls",
            "_model_module_version": "1.5.0",
            "_model_name": "DescriptionStyleModel",
            "_view_count": null,
            "_view_module": "@jupyter-widgets/base",
            "_view_module_version": "1.2.0",
            "_view_name": "StyleView",
            "description_width": ""
          }
        },
        "104aa2811cb8432ebf27ce3fd799d7e4": {
          "model_module": "@jupyter-widgets/base",
          "model_name": "LayoutModel",
          "model_module_version": "1.2.0",
          "state": {
            "_model_module": "@jupyter-widgets/base",
            "_model_module_version": "1.2.0",
            "_model_name": "LayoutModel",
            "_view_count": null,
            "_view_module": "@jupyter-widgets/base",
            "_view_module_version": "1.2.0",
            "_view_name": "LayoutView",
            "align_content": null,
            "align_items": null,
            "align_self": null,
            "border": null,
            "bottom": null,
            "display": null,
            "flex": null,
            "flex_flow": null,
            "grid_area": null,
            "grid_auto_columns": null,
            "grid_auto_flow": null,
            "grid_auto_rows": null,
            "grid_column": null,
            "grid_gap": null,
            "grid_row": null,
            "grid_template_areas": null,
            "grid_template_columns": null,
            "grid_template_rows": null,
            "height": null,
            "justify_content": null,
            "justify_items": null,
            "left": null,
            "margin": null,
            "max_height": null,
            "max_width": null,
            "min_height": null,
            "min_width": null,
            "object_fit": null,
            "object_position": null,
            "order": null,
            "overflow": null,
            "overflow_x": null,
            "overflow_y": null,
            "padding": null,
            "right": null,
            "top": null,
            "visibility": null,
            "width": null
          }
        },
        "c20f07263478444ea40f769e5885f7be": {
          "model_module": "@jupyter-widgets/controls",
          "model_name": "ProgressStyleModel",
          "model_module_version": "1.5.0",
          "state": {
            "_model_module": "@jupyter-widgets/controls",
            "_model_module_version": "1.5.0",
            "_model_name": "ProgressStyleModel",
            "_view_count": null,
            "_view_module": "@jupyter-widgets/base",
            "_view_module_version": "1.2.0",
            "_view_name": "StyleView",
            "bar_color": null,
            "description_width": ""
          }
        },
        "88916c91819f485d940e7f082a0fca02": {
          "model_module": "@jupyter-widgets/base",
          "model_name": "LayoutModel",
          "model_module_version": "1.2.0",
          "state": {
            "_model_module": "@jupyter-widgets/base",
            "_model_module_version": "1.2.0",
            "_model_name": "LayoutModel",
            "_view_count": null,
            "_view_module": "@jupyter-widgets/base",
            "_view_module_version": "1.2.0",
            "_view_name": "LayoutView",
            "align_content": null,
            "align_items": null,
            "align_self": null,
            "border": null,
            "bottom": null,
            "display": null,
            "flex": null,
            "flex_flow": null,
            "grid_area": null,
            "grid_auto_columns": null,
            "grid_auto_flow": null,
            "grid_auto_rows": null,
            "grid_column": null,
            "grid_gap": null,
            "grid_row": null,
            "grid_template_areas": null,
            "grid_template_columns": null,
            "grid_template_rows": null,
            "height": null,
            "justify_content": null,
            "justify_items": null,
            "left": null,
            "margin": null,
            "max_height": null,
            "max_width": null,
            "min_height": null,
            "min_width": null,
            "object_fit": null,
            "object_position": null,
            "order": null,
            "overflow": null,
            "overflow_x": null,
            "overflow_y": null,
            "padding": null,
            "right": null,
            "top": null,
            "visibility": null,
            "width": null
          }
        },
        "c5b1994f7afd4e5aaed1bc882d9fb985": {
          "model_module": "@jupyter-widgets/controls",
          "model_name": "DescriptionStyleModel",
          "model_module_version": "1.5.0",
          "state": {
            "_model_module": "@jupyter-widgets/controls",
            "_model_module_version": "1.5.0",
            "_model_name": "DescriptionStyleModel",
            "_view_count": null,
            "_view_module": "@jupyter-widgets/base",
            "_view_module_version": "1.2.0",
            "_view_name": "StyleView",
            "description_width": ""
          }
        },
        "d40ce93f00224d0aaf58b3cea7f717bc": {
          "model_module": "@jupyter-widgets/controls",
          "model_name": "HBoxModel",
          "model_module_version": "1.5.0",
          "state": {
            "_dom_classes": [],
            "_model_module": "@jupyter-widgets/controls",
            "_model_module_version": "1.5.0",
            "_model_name": "HBoxModel",
            "_view_count": null,
            "_view_module": "@jupyter-widgets/controls",
            "_view_module_version": "1.5.0",
            "_view_name": "HBoxView",
            "box_style": "",
            "children": [
              "IPY_MODEL_69c91065cb3e4c69a8584b31c72812c1",
              "IPY_MODEL_e4cc4a40a9964ff1b02c20f000426f7f",
              "IPY_MODEL_def87d1ee990458ca6aaa1de3b8e5fcc"
            ],
            "layout": "IPY_MODEL_bfc073726b544f07bbb43e5ce7131713"
          }
        },
        "69c91065cb3e4c69a8584b31c72812c1": {
          "model_module": "@jupyter-widgets/controls",
          "model_name": "HTMLModel",
          "model_module_version": "1.5.0",
          "state": {
            "_dom_classes": [],
            "_model_module": "@jupyter-widgets/controls",
            "_model_module_version": "1.5.0",
            "_model_name": "HTMLModel",
            "_view_count": null,
            "_view_module": "@jupyter-widgets/controls",
            "_view_module_version": "1.5.0",
            "_view_name": "HTMLView",
            "description": "",
            "description_tooltip": null,
            "layout": "IPY_MODEL_4bbc129d828146e781b4886183ae23a2",
            "placeholder": "​",
            "style": "IPY_MODEL_39da1a7c9c0b4e13bd06598e17e7fdaa",
            "value": "Downloading (…)neration_config.json: 100%"
          }
        },
        "e4cc4a40a9964ff1b02c20f000426f7f": {
          "model_module": "@jupyter-widgets/controls",
          "model_name": "FloatProgressModel",
          "model_module_version": "1.5.0",
          "state": {
            "_dom_classes": [],
            "_model_module": "@jupyter-widgets/controls",
            "_model_module_version": "1.5.0",
            "_model_name": "FloatProgressModel",
            "_view_count": null,
            "_view_module": "@jupyter-widgets/controls",
            "_view_module_version": "1.5.0",
            "_view_name": "ProgressView",
            "bar_style": "success",
            "description": "",
            "description_tooltip": null,
            "layout": "IPY_MODEL_ef49cd0879514a3285c1ca57563444a3",
            "max": 124,
            "min": 0,
            "orientation": "horizontal",
            "style": "IPY_MODEL_2d2d8acc6dfc440b8bb9561024bcfa01",
            "value": 124
          }
        },
        "def87d1ee990458ca6aaa1de3b8e5fcc": {
          "model_module": "@jupyter-widgets/controls",
          "model_name": "HTMLModel",
          "model_module_version": "1.5.0",
          "state": {
            "_dom_classes": [],
            "_model_module": "@jupyter-widgets/controls",
            "_model_module_version": "1.5.0",
            "_model_name": "HTMLModel",
            "_view_count": null,
            "_view_module": "@jupyter-widgets/controls",
            "_view_module_version": "1.5.0",
            "_view_name": "HTMLView",
            "description": "",
            "description_tooltip": null,
            "layout": "IPY_MODEL_efdcc249c78148e281ef2dd99aa09d46",
            "placeholder": "​",
            "style": "IPY_MODEL_b143820088024183a7454b1a8209929e",
            "value": " 124/124 [00:00&lt;00:00, 2.68kB/s]"
          }
        },
        "bfc073726b544f07bbb43e5ce7131713": {
          "model_module": "@jupyter-widgets/base",
          "model_name": "LayoutModel",
          "model_module_version": "1.2.0",
          "state": {
            "_model_module": "@jupyter-widgets/base",
            "_model_module_version": "1.2.0",
            "_model_name": "LayoutModel",
            "_view_count": null,
            "_view_module": "@jupyter-widgets/base",
            "_view_module_version": "1.2.0",
            "_view_name": "LayoutView",
            "align_content": null,
            "align_items": null,
            "align_self": null,
            "border": null,
            "bottom": null,
            "display": null,
            "flex": null,
            "flex_flow": null,
            "grid_area": null,
            "grid_auto_columns": null,
            "grid_auto_flow": null,
            "grid_auto_rows": null,
            "grid_column": null,
            "grid_gap": null,
            "grid_row": null,
            "grid_template_areas": null,
            "grid_template_columns": null,
            "grid_template_rows": null,
            "height": null,
            "justify_content": null,
            "justify_items": null,
            "left": null,
            "margin": null,
            "max_height": null,
            "max_width": null,
            "min_height": null,
            "min_width": null,
            "object_fit": null,
            "object_position": null,
            "order": null,
            "overflow": null,
            "overflow_x": null,
            "overflow_y": null,
            "padding": null,
            "right": null,
            "top": null,
            "visibility": null,
            "width": null
          }
        },
        "4bbc129d828146e781b4886183ae23a2": {
          "model_module": "@jupyter-widgets/base",
          "model_name": "LayoutModel",
          "model_module_version": "1.2.0",
          "state": {
            "_model_module": "@jupyter-widgets/base",
            "_model_module_version": "1.2.0",
            "_model_name": "LayoutModel",
            "_view_count": null,
            "_view_module": "@jupyter-widgets/base",
            "_view_module_version": "1.2.0",
            "_view_name": "LayoutView",
            "align_content": null,
            "align_items": null,
            "align_self": null,
            "border": null,
            "bottom": null,
            "display": null,
            "flex": null,
            "flex_flow": null,
            "grid_area": null,
            "grid_auto_columns": null,
            "grid_auto_flow": null,
            "grid_auto_rows": null,
            "grid_column": null,
            "grid_gap": null,
            "grid_row": null,
            "grid_template_areas": null,
            "grid_template_columns": null,
            "grid_template_rows": null,
            "height": null,
            "justify_content": null,
            "justify_items": null,
            "left": null,
            "margin": null,
            "max_height": null,
            "max_width": null,
            "min_height": null,
            "min_width": null,
            "object_fit": null,
            "object_position": null,
            "order": null,
            "overflow": null,
            "overflow_x": null,
            "overflow_y": null,
            "padding": null,
            "right": null,
            "top": null,
            "visibility": null,
            "width": null
          }
        },
        "39da1a7c9c0b4e13bd06598e17e7fdaa": {
          "model_module": "@jupyter-widgets/controls",
          "model_name": "DescriptionStyleModel",
          "model_module_version": "1.5.0",
          "state": {
            "_model_module": "@jupyter-widgets/controls",
            "_model_module_version": "1.5.0",
            "_model_name": "DescriptionStyleModel",
            "_view_count": null,
            "_view_module": "@jupyter-widgets/base",
            "_view_module_version": "1.2.0",
            "_view_name": "StyleView",
            "description_width": ""
          }
        },
        "ef49cd0879514a3285c1ca57563444a3": {
          "model_module": "@jupyter-widgets/base",
          "model_name": "LayoutModel",
          "model_module_version": "1.2.0",
          "state": {
            "_model_module": "@jupyter-widgets/base",
            "_model_module_version": "1.2.0",
            "_model_name": "LayoutModel",
            "_view_count": null,
            "_view_module": "@jupyter-widgets/base",
            "_view_module_version": "1.2.0",
            "_view_name": "LayoutView",
            "align_content": null,
            "align_items": null,
            "align_self": null,
            "border": null,
            "bottom": null,
            "display": null,
            "flex": null,
            "flex_flow": null,
            "grid_area": null,
            "grid_auto_columns": null,
            "grid_auto_flow": null,
            "grid_auto_rows": null,
            "grid_column": null,
            "grid_gap": null,
            "grid_row": null,
            "grid_template_areas": null,
            "grid_template_columns": null,
            "grid_template_rows": null,
            "height": null,
            "justify_content": null,
            "justify_items": null,
            "left": null,
            "margin": null,
            "max_height": null,
            "max_width": null,
            "min_height": null,
            "min_width": null,
            "object_fit": null,
            "object_position": null,
            "order": null,
            "overflow": null,
            "overflow_x": null,
            "overflow_y": null,
            "padding": null,
            "right": null,
            "top": null,
            "visibility": null,
            "width": null
          }
        },
        "2d2d8acc6dfc440b8bb9561024bcfa01": {
          "model_module": "@jupyter-widgets/controls",
          "model_name": "ProgressStyleModel",
          "model_module_version": "1.5.0",
          "state": {
            "_model_module": "@jupyter-widgets/controls",
            "_model_module_version": "1.5.0",
            "_model_name": "ProgressStyleModel",
            "_view_count": null,
            "_view_module": "@jupyter-widgets/base",
            "_view_module_version": "1.2.0",
            "_view_name": "StyleView",
            "bar_color": null,
            "description_width": ""
          }
        },
        "efdcc249c78148e281ef2dd99aa09d46": {
          "model_module": "@jupyter-widgets/base",
          "model_name": "LayoutModel",
          "model_module_version": "1.2.0",
          "state": {
            "_model_module": "@jupyter-widgets/base",
            "_model_module_version": "1.2.0",
            "_model_name": "LayoutModel",
            "_view_count": null,
            "_view_module": "@jupyter-widgets/base",
            "_view_module_version": "1.2.0",
            "_view_name": "LayoutView",
            "align_content": null,
            "align_items": null,
            "align_self": null,
            "border": null,
            "bottom": null,
            "display": null,
            "flex": null,
            "flex_flow": null,
            "grid_area": null,
            "grid_auto_columns": null,
            "grid_auto_flow": null,
            "grid_auto_rows": null,
            "grid_column": null,
            "grid_gap": null,
            "grid_row": null,
            "grid_template_areas": null,
            "grid_template_columns": null,
            "grid_template_rows": null,
            "height": null,
            "justify_content": null,
            "justify_items": null,
            "left": null,
            "margin": null,
            "max_height": null,
            "max_width": null,
            "min_height": null,
            "min_width": null,
            "object_fit": null,
            "object_position": null,
            "order": null,
            "overflow": null,
            "overflow_x": null,
            "overflow_y": null,
            "padding": null,
            "right": null,
            "top": null,
            "visibility": null,
            "width": null
          }
        },
        "b143820088024183a7454b1a8209929e": {
          "model_module": "@jupyter-widgets/controls",
          "model_name": "DescriptionStyleModel",
          "model_module_version": "1.5.0",
          "state": {
            "_model_module": "@jupyter-widgets/controls",
            "_model_module_version": "1.5.0",
            "_model_name": "DescriptionStyleModel",
            "_view_count": null,
            "_view_module": "@jupyter-widgets/base",
            "_view_module_version": "1.2.0",
            "_view_name": "StyleView",
            "description_width": ""
          }
        }
      }
    }
  },
  "cells": [
    {
      "cell_type": "markdown",
      "source": [
        "![image.png](data:image/png;base64,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)\n",
        "- 自回归语言生成是基于马尔可夫假设，即单词序列的概率分布可以分解为单词的条件概率乘积"
      ],
      "metadata": {
        "id": "5RkvoxD3irGN"
      }
    },
    {
      "cell_type": "markdown",
      "source": [
        "本笔记中，我们会学习当前最流行的解码/文本生成方式\n",
        "1. Greedy Search\n",
        "2. Beam Search\n",
        "3. Top-K Sampling\n",
        "4. Top-P Samping\n",
        "\n",
        "我们会使用 GPT2 模型作为案例，验证不同方式的效果"
      ],
      "metadata": {
        "id": "D4Y8EzNjjUCe"
      }
    },
    {
      "cell_type": "code",
      "source": [
        "!pip install -q git+https://github.com/huggingface/transformers.git\n",
        "!pip install -q tensorflow"
      ],
      "metadata": {
        "id": "sVX702mjIMxd",
        "colab": {
          "base_uri": "https://localhost:8080/"
        },
        "outputId": "bd4e69cd-8cd6-4b3a-a043-1852eb5cca9d"
      },
      "execution_count": 4,
      "outputs": [
        {
          "output_type": "stream",
          "name": "stdout",
          "text": [
            "  Installing build dependencies ... \u001b[?25l\u001b[?25hdone\n",
            "  Getting requirements to build wheel ... \u001b[?25l\u001b[?25hdone\n",
            "  Preparing metadata (pyproject.toml) ... \u001b[?25l\u001b[?25hdone\n"
          ]
        }
      ]
    },
    {
      "cell_type": "code",
      "source": [
        "import tensorflow as tf\n",
        "from transformers import TFGPT2LMHeadModel, GPT2Tokenizer\n",
        "\n",
        "# 使用 gpt2 自带的tokenizer 作为分词器\n",
        "tokenizer = GPT2Tokenizer.from_pretrained(\"gpt2\")\n",
        "# 引入模型\n",
        "# add the EOS token as PAD token to avoid warnings\n",
        "model = TFGPT2LMHeadModel.from_pretrained(\"gpt2\", pad_token_id=tokenizer.eos_token_id)"
      ],
      "metadata": {
        "id": "9HwkIUJ8j69r",
        "colab": {
          "base_uri": "https://localhost:8080/",
          "height": 248,
          "referenced_widgets": [
            "d05bc34d420c4c0d81907e1516e6bcca",
            "e1489316eda342fbac430eb641120102",
            "25abcb188e854e9b9c8da372d2a7ab37",
            "c8d06caca1a740509f9c5f3988482cef",
            "af005c4580a8451c976770a689855280",
            "4658b480fea848e18b826111966bfd1d",
            "edec820bef4648dc9a1ace10930d1756",
            "17730984e18c4bddac03614c9b38707b",
            "777ba8a294f547df96efe79ab4f28126",
            "25c998cb5be345378e9a2a40bb7b9fa0",
            "780efe4b69f942119d1230cd82362ba2",
            "209c28e540d94f368a8fda3caa25446b",
            "83dc401973f6480fb48dc65f1d4c51fd",
            "68b59cb5f48a4ef5b63f17bdc95ac067",
            "f5f3f85f011e478da6622586a2eac23f",
            "c4560c6c28fc44d28c036bc1d3294798",
            "a1dd8aa677f0447892fce67737ff34d3",
            "af239ebc57934dc9875d5a5e51045ef8",
            "913923d7003b4342b1cf68697d6cf0a8",
            "b7522e7118fc4e8d84a2a73d17350266",
            "7f4e2ea1b4be4267990d0bd5bbbd047d",
            "ffd0dc80c4304607980ea4410e09abe8",
            "4efd93976667486e993f762ebb41da90",
            "e4a382875f7a4ce4b1019af7282887f6",
            "3f43e82e964440d189014ac29962de29",
            "16f7dcbbcf8743b580e12421217ce498",
            "725a6214f8f144b09d96f27787b2d568",
            "0be834e312294d9ba5a26055026efe06",
            "c717c42d29d64ecfb37aacf7e49f5a4b",
            "e4be291d9efa45f487d29388a8eac0e9",
            "7868c688b07a47acabfe328456f0d80e",
            "0ded95a14c254fcdb80c6097b5c22f32",
            "6491324f6b004f429744f38f3ba34965",
            "9ab550b78b30411c863703372ba5d335",
            "a7d213cd407d401e8c77eddf4135a29b",
            "3be44237fba04c8db751d6c017a0bef6",
            "8aafaab8a7f8440180edd33aae942eae",
            "bec3690db97142a38b86d9969a8accfc",
            "a53ef6c3c7674db7927763f3ee2a1b7d",
            "5401ff94bc1c48ba96dbd6bac1126d48",
            "104aa2811cb8432ebf27ce3fd799d7e4",
            "c20f07263478444ea40f769e5885f7be",
            "88916c91819f485d940e7f082a0fca02",
            "c5b1994f7afd4e5aaed1bc882d9fb985",
            "d40ce93f00224d0aaf58b3cea7f717bc",
            "69c91065cb3e4c69a8584b31c72812c1",
            "e4cc4a40a9964ff1b02c20f000426f7f",
            "def87d1ee990458ca6aaa1de3b8e5fcc",
            "bfc073726b544f07bbb43e5ce7131713",
            "4bbc129d828146e781b4886183ae23a2",
            "39da1a7c9c0b4e13bd06598e17e7fdaa",
            "ef49cd0879514a3285c1ca57563444a3",
            "2d2d8acc6dfc440b8bb9561024bcfa01",
            "efdcc249c78148e281ef2dd99aa09d46",
            "b143820088024183a7454b1a8209929e"
          ]
        },
        "outputId": "c85c234c-b1a7-406a-a24a-838be700f233"
      },
      "execution_count": 5,
      "outputs": [
        {
          "output_type": "display_data",
          "data": {
            "text/plain": [
              "Downloading (…)olve/main/vocab.json:   0%|          | 0.00/1.04M [00:00<?, ?B/s]"
            ],
            "application/vnd.jupyter.widget-view+json": {
              "version_major": 2,
              "version_minor": 0,
              "model_id": "d05bc34d420c4c0d81907e1516e6bcca"
            }
          },
          "metadata": {}
        },
        {
          "output_type": "display_data",
          "data": {
            "text/plain": [
              "Downloading (…)olve/main/merges.txt:   0%|          | 0.00/456k [00:00<?, ?B/s]"
            ],
            "application/vnd.jupyter.widget-view+json": {
              "version_major": 2,
              "version_minor": 0,
              "model_id": "209c28e540d94f368a8fda3caa25446b"
            }
          },
          "metadata": {}
        },
        {
          "output_type": "display_data",
          "data": {
            "text/plain": [
              "Downloading (…)lve/main/config.json:   0%|          | 0.00/665 [00:00<?, ?B/s]"
            ],
            "application/vnd.jupyter.widget-view+json": {
              "version_major": 2,
              "version_minor": 0,
              "model_id": "4efd93976667486e993f762ebb41da90"
            }
          },
          "metadata": {}
        },
        {
          "output_type": "display_data",
          "data": {
            "text/plain": [
              "Downloading tf_model.h5:   0%|          | 0.00/498M [00:00<?, ?B/s]"
            ],
            "application/vnd.jupyter.widget-view+json": {
              "version_major": 2,
              "version_minor": 0,
              "model_id": "9ab550b78b30411c863703372ba5d335"
            }
          },
          "metadata": {}
        },
        {
          "output_type": "stream",
          "name": "stderr",
          "text": [
            "All model checkpoint layers were used when initializing TFGPT2LMHeadModel.\n",
            "\n",
            "All the layers of TFGPT2LMHeadModel were initialized from the model checkpoint at gpt2.\n",
            "If your task is similar to the task the model of the checkpoint was trained on, you can already use TFGPT2LMHeadModel for predictions without further training.\n"
          ]
        },
        {
          "output_type": "display_data",
          "data": {
            "text/plain": [
              "Downloading (…)neration_config.json:   0%|          | 0.00/124 [00:00<?, ?B/s]"
            ],
            "application/vnd.jupyter.widget-view+json": {
              "version_major": 2,
              "version_minor": 0,
              "model_id": "d40ce93f00224d0aaf58b3cea7f717bc"
            }
          },
          "metadata": {}
        }
      ]
    },
    {
      "cell_type": "markdown",
      "source": [
        "## Greedy Search 贪心搜索\n",
        "\n",
        "![image](https://huggingface.co/blog/assets/02_how-to-generate/greedy_search.png)\n",
        "\n",
        "- Greedy Search 贪心搜索：永远只选择概率最大的词作为当前时间步的输出内容\n",
        "- P(\"The\",\"nice\",\"woman\") = 0.5 x 0.4 = 0.2"
      ],
      "metadata": {
        "id": "jqxw6we4lG0L"
      }
    },
    {
      "cell_type": "code",
      "source": [
        "# 我们使用 '\"I\",\"enjoy\",\"walking\",\"with\",\"my\",\"cute\",\"dog\"' 作为上文文本，让 GPT2 帮助我们生成文本\n",
        "# 将输入文本进行文本标签化/向量化\n",
        "input_ids = tokenizer.encode('I enjoy walking with my cute dog', return_tensors='tf')\n",
        "# 让gpt2模型基于我们的输出50个字符的文本\n",
        "greedy_output = model.generate(input_ids, max_length = 50)\n",
        "print(\"Output:\\n\" + 100 * '-')\n",
        "print(tokenizer.decode(greedy_output[0], skip_special_tokens=True))"
      ],
      "metadata": {
        "colab": {
          "base_uri": "https://localhost:8080/"
        },
        "id": "tpKnXZ4qlCGn",
        "outputId": "402a7689-c738-4047-bc65-0bc91b65ad85"
      },
      "execution_count": 6,
      "outputs": [
        {
          "output_type": "stream",
          "name": "stdout",
          "text": [
            "Output:\n",
            "----------------------------------------------------------------------------------------------------\n",
            "I enjoy walking with my cute dog, but I'm not sure if I'll ever be able to walk with my dog. I'm not sure if I'll ever be able to walk with my dog.\n",
            "\n",
            "I'm not sure if I'll\n"
          ]
        }
      ]
    },
    {
      "cell_type": "markdown",
      "source": [
        "- 通过生成的文本我们可以看出，续写的文本是有逻辑性的，但是却很快就开始重复自身的内容，这又很糟糕了。。\n",
        "- 贪心搜索的主要缺点是它错过了隐藏在低概率词后面的高概率词，当前时间步下的高概率词不代表他就是最合适好的答案\n",
        "- 比如上面的图片中，如果选择了`dog`作为第一个词后，我们才能选到条件概率更高的`has`，但是按照 Greedy Search 的方式，我们将会错过 `The dog has` 这样一串符合语义的文本序列组合 "
      ],
      "metadata": {
        "id": "0gehSpUfm8d3"
      }
    },
    {
      "cell_type": "markdown",
      "source": [
        "## Beam Search 束搜索\n",
        "\n",
        "- Beam Search 基于束的数量N，留下概率最高的N个文本序列组合集，最终选择组合集中概率最大的那一个组合进行输出\n",
        "- 对于一个 Beam = 2 的Beam Search：\n",
        "\n",
        "![BS](https://huggingface.co/blog/assets/02_how-to-generate/beam_search.png)\n",
        "\n",
        "1. 在第一步时，除了可能性最高的组合 'The nice' 之外，也保留了第二高可信的组合 'The dog'\n",
        "2. 在第二步时，则采用了 \"The\",\"dog\",\"has\" 这组 0.36 概率的组合，而概率次高的组合者变成了 \"The\",\"nice\",\"woman\" 0.2 的概率\n",
        "3. Beam search 总是会找到比贪心搜索概率更高的输出序列，但不保证找到最有可能的输出（因为Number of Beam 的取值不可能是过大）"
      ],
      "metadata": {
        "id": "6rdHPZN1pl55"
      }
    },
    {
      "cell_type": "code",
      "source": [
        "# activate beam search and early_stopping\n",
        "# 当生成过程遇到 EOS (End of sentence)时主动停止\n",
        "# 设置生成过程的 Beam Number 为 5\n",
        "beam_output = model.generate(\n",
        "    input_ids, \n",
        "    max_length=50, \n",
        "    num_beams=5, \n",
        "    early_stopping=True\n",
        ")\n",
        "\n",
        "print(\"Output:\\n\" + 100 * '-')\n",
        "print(tokenizer.decode(beam_output[0], skip_special_tokens=True))"
      ],
      "metadata": {
        "colab": {
          "base_uri": "https://localhost:8080/"
        },
        "id": "We4rQRdRmzVX",
        "outputId": "2c41e2d1-0e04-4a93-b1c2-539a9bb267ef"
      },
      "execution_count": 7,
      "outputs": [
        {
          "output_type": "stream",
          "name": "stdout",
          "text": [
            "Output:\n",
            "----------------------------------------------------------------------------------------------------\n",
            "I enjoy walking with my cute dog, but I'm not sure if I'll ever be able to walk with him again.\n",
            "\n",
            "I'm not sure if I'll ever be able to walk with him again. I'm not sure if I'll\n"
          ]
        }
      ]
    },
    {
      "cell_type": "markdown",
      "source": [
        "我们可以看出相比于之前，我们输出的文本变的更加流程了，但是仍然无法规避文本重复的问题\n",
        "- 针对这一问题，2017年，[Paulus et al. (2017)](https://arxiv.org/abs/1705.04304) 提出使用 N-Gram 惩罚机制，确保在文本生成过程中，不会重复出现已有的 N-gram 短语"
      ],
      "metadata": {
        "id": "xvjMWcgSrNo9"
      }
    },
    {
      "cell_type": "code",
      "source": [
        "# set no_repeat_ngram_size to 2\n",
        "# 在生成的过程中我们将N-Gram 惩罚值设置为2，也就是不会出现2-Gram的重复文本，看看效果如何\n",
        "beam_output = model.generate(\n",
        "    input_ids, \n",
        "    max_length=50, \n",
        "    num_beams=5, \n",
        "    no_repeat_ngram_size=2, \n",
        "    early_stopping=True\n",
        ")\n",
        "\n",
        "print(\"Output:\\n\" + 100 * '-')\n",
        "print(tokenizer.decode(beam_output[0], skip_special_tokens=True))"
      ],
      "metadata": {
        "colab": {
          "base_uri": "https://localhost:8080/"
        },
        "id": "vTdP0p79rLrb",
        "outputId": "a3327fa4-35d2-4367-c8b8-fd6c5e0f857f"
      },
      "execution_count": 8,
      "outputs": [
        {
          "output_type": "stream",
          "name": "stdout",
          "text": [
            "Output:\n",
            "----------------------------------------------------------------------------------------------------\n",
            "I enjoy walking with my cute dog, but I'm not sure if I'll ever be able to walk with him again.\n",
            "\n",
            "I've been thinking about this for a while now, and I think it's time for me to take a break\n"
          ]
        }
      ]
    },
    {
      "cell_type": "markdown",
      "source": [
        "- 加入N-gram 惩罚机制之后，生成文本的重复现象改善了很多。\n",
        "- 但是 N-Gram 惩罚机制并不是金手指，对于一篇针对于`New York` 这座城市的导览文章而言，使用 2-Gram惩罚将会导致`New York`这个地名组合在输出时仅出现一次，这会将这个导览变成一篇阅读理解，在这种场景下，我们将会很难N-Gram的N\n"
      ],
      "metadata": {
        "id": "IVgipfLJsOt7"
      }
    },
    {
      "cell_type": "markdown",
      "source": [
        "我们也可以让模型在生成时生成多条高概率的文本，以供我们进行选择"
      ],
      "metadata": {
        "id": "TXQ_uBwys6bA"
      }
    },
    {
      "cell_type": "code",
      "source": [
        "# set return_num_sequences > 1\n",
        "# 返回五条最高概率的输出，注意返回的输出数量不能超过 Number of Beam 的参数设置\n",
        "beam_outputs = model.generate(\n",
        "    input_ids, \n",
        "    max_length=50, \n",
        "    num_beams=5, \n",
        "    no_repeat_ngram_size=2, \n",
        "    num_return_sequences=5, \n",
        "    early_stopping=True\n",
        ")\n",
        "\n",
        "# now we have 3 output sequences\n",
        "print(\"Output:\\n\" + 100 * '-')\n",
        "for i, beam_output in enumerate(beam_outputs):\n",
        "  print(\"{}: {}\".format(i, tokenizer.decode(beam_output, skip_special_tokens=True)))"
      ],
      "metadata": {
        "colab": {
          "base_uri": "https://localhost:8080/"
        },
        "id": "t1b6TUsOr8ZX",
        "outputId": "60288ec9-a023-473a-e89c-cee827623724"
      },
      "execution_count": 9,
      "outputs": [
        {
          "output_type": "stream",
          "name": "stdout",
          "text": [
            "Output:\n",
            "----------------------------------------------------------------------------------------------------\n",
            "0: I enjoy walking with my cute dog, but I'm not sure if I'll ever be able to walk with him again.\n",
            "\n",
            "I've been thinking about this for a while now, and I think it's time for me to take a break\n",
            "1: I enjoy walking with my cute dog, but I'm not sure if I'll ever be able to walk with him again.\n",
            "\n",
            "I've been thinking about this for a while now, and I think it's time for me to get back to\n",
            "2: I enjoy walking with my cute dog, but I'm not sure if I'll ever be able to walk with her again.\n",
            "\n",
            "I've been thinking about this for a while now, and I think it's time for me to take a break\n",
            "3: I enjoy walking with my cute dog, but I'm not sure if I'll ever be able to walk with her again.\n",
            "\n",
            "I've been thinking about this for a while now, and I think it's time for me to get back to\n",
            "4: I enjoy walking with my cute dog, but I'm not sure if I'll ever be able to walk with him again.\n",
            "\n",
            "I've been thinking about this for a while now, and I think it's time for me to take a step\n"
          ]
        }
      ]
    },
    {
      "cell_type": "markdown",
      "source": [
        "- 输出概率最高的5条输出结果好像并不能帮助我们获得更好的输出，每一条的输出结果只有细微的差距，这也是基于概率分布进行文本生成的最大问题，哪怕我们采用Top5的概率结果，文本的生成过程也很有可能陷入成求局部最优解的旋涡中\n",
        "\n",
        "- 在[ Murray et al. (2018)](https://arxiv.org/abs/1808.10006) 的论文中，他们认为Beam Search 对于文本翻译和总结类型的任务，能够达成不错的结果，但是对于生成类/续写类的任务，则不太实用\n",
        "\n",
        "- 虽然我们可以使用 N-Gram 惩罚来解决重复文本的问题，但是N的数字选取则是一个需要针对训练任务和训练集进行微调的桎梏\n",
        "\n",
        "- 而在[ Ari Holtzman et al. (2019)](https://arxiv.org/abs/1904.09751) 的论文中，他参考了语言学的知识提出，人类的语言选择很多时候并不会基于高概率进行选择，相反我们会因为语境和内容选择低频词或是相反的概念词来进行表达（比如YYGQ），以避免我们的文本内容可预测或是无聊。\n",
        "\n",
        "![Cons of BS](https://blog.fastforwardlabs.com/images/2019/05/Screen_Shot_2019_05_08_at_3_06_36_PM-1557342561886.png)"
      ],
      "metadata": {
        "id": "l2yADxL2tjfp"
      }
    },
    {
      "cell_type": "markdown",
      "source": [
        "## Sampling 采样\n",
        "\n",
        "- 基于文本的条件概率分布随机选取下一个文本\n",
        "![sampleing](https://huggingface.co/blog/assets/02_how-to-generate/sampling_search.png)\n",
        "\n",
        "- 因为是随机选取，所以文本的生成将不再具备确定性"
      ],
      "metadata": {
        "id": "ISlu38fRzalG"
      }
    },
    {
      "cell_type": "code",
      "source": [
        "# set seed to reproduce results. Feel free to change the seed though to get different results\n",
        "# 随机采样的初始化参数，初始化成多少都可以\n",
        "tf.random.set_seed(0)\n",
        "\n",
        "# activate sampling and deactivate top_k by setting top_k sampling to 0\n",
        "# 将Top-k置为0才能激活native sampling，不然会生成top-k sampling\n",
        "# 这里讲 do_sample 置为 True 确保生成文本\n",
        "sample_output = model.generate(\n",
        "    input_ids, \n",
        "    do_sample=True, \n",
        "    max_length=50, \n",
        "    top_k=0\n",
        ")\n",
        "\n",
        "print(\"Output:\\n\" + 100 * '-')\n",
        "print(tokenizer.decode(sample_output[0], skip_special_tokens=True))"
      ],
      "metadata": {
        "colab": {
          "base_uri": "https://localhost:8080/"
        },
        "id": "R4LMAJjyzaMw",
        "outputId": "13563146-572c-409c-8cf6-ffef316faa84"
      },
      "execution_count": 10,
      "outputs": [
        {
          "output_type": "stream",
          "name": "stdout",
          "text": [
            "Output:\n",
            "----------------------------------------------------------------------------------------------------\n",
            "I enjoy walking with my cute dog and never seem to get nervous until it turns into battery Art Hours $50 of Weekend Bikes Friday Night A King's Approaches This was all, no problem WRONG!! WOWMS readers: excellent product!\n"
          ]
        }
      ]
    },
    {
      "cell_type": "markdown",
      "source": [
        "- 生成的文本只能说是生成了，但是从含义上看基本上牛头不对马嘴\n",
        "- 这也是native sampling 最大的问题，生成出来的文本是毫无含义的废话，连正确的废话都不是"
      ],
      "metadata": {
        "id": "M6q2dHu-0RQ8"
      }
    },
    {
      "cell_type": "markdown",
      "source": [
        "于是，针对 native sampling 的问题，提出了一些解决思路（解决思路不是解决方案，我想解决，但是不一定解决掉了）\n",
        "\n",
        "- 为了增加高概率词被选中的机会，降低低概率词被选中的机会，提出了`temperature` softmax 的概念\n",
        "\n",
        "![temperature softmax](https://huggingface.co/blog/assets/02_how-to-generate/sampling_search_with_temp.png)\n",
        "\n",
        "- 经过这样的处理之后，nice 相比于 car 拥有了更大的被选中概率，但是这样是不是又会陷入到 Greedy Search 的圈套里"
      ],
      "metadata": {
        "id": "P3G46T-_0uRc"
      }
    },
    {
      "cell_type": "code",
      "source": [
        "# set seed to reproduce results. Feel free to change the seed though to get different results\n",
        "tf.random.set_seed(0)\n",
        "\n",
        "# use temperature to decrease the sensitivity to low probability candidates\n",
        "# 设置 tempearture 为 0.7 目的是降低低概率词被选中的可能性\n",
        "sample_output = model.generate(\n",
        "    input_ids, \n",
        "    do_sample=True, \n",
        "    max_length=50, \n",
        "    top_k=0, \n",
        "    temperature=0.7\n",
        ")\n",
        "\n",
        "print(\"Output:\\n\" + 100 * '-')\n",
        "print(tokenizer.decode(sample_output[0], skip_special_tokens=True))\n",
        "\n"
      ],
      "metadata": {
        "colab": {
          "base_uri": "https://localhost:8080/"
        },
        "id": "y_NmrQEntVpX",
        "outputId": "88404019-e89c-4655-d069-42ce477c1bbc"
      },
      "execution_count": 11,
      "outputs": [
        {
          "output_type": "stream",
          "name": "stdout",
          "text": [
            "Output:\n",
            "----------------------------------------------------------------------------------------------------\n",
            "I enjoy walking with my cute dog. I've always been an avid dog lover. My favorite type of dog is one that has been trained to do many things. I do not have any special preferences for particular breeds. I don't think I have\n"
          ]
        }
      ]
    },
    {
      "cell_type": "markdown",
      "source": [
        "- 通过生成的结果，我们可以看到这段文本的生成小果好了很多\n",
        "- 采用temperature的方式的确可以让我们的文本生成好一些\n",
        "- 但是如果将temperature 设置为趋近0，那其实我们的 Sampling 其实就是贪婪搜索了"
      ],
      "metadata": {
        "id": "NpCH8DZl1mxU"
      }
    },
    {
      "cell_type": "markdown",
      "source": [
        "## Top-K Sampling\n",
        "\n",
        "[Fan et. al (2018)](https://arxiv.org/pdf/1805.04833.pdf) 在论文中提出了temperature 的升级思路，称为 Top-K sampling\n",
        "\n",
        "- Top-K 如其名，会优先选择K个概率最大的文本选择作为子集，再对选择好的子集进行softmax概率分布计算\n",
        "\n",
        "- GPT2 模型默认采用的就是 Top-K sampling 的思路\n",
        "\n",
        "![Top-k](https://huggingface.co/blog/assets/02_how-to-generate/top_k_sampling.png)\n",
        "\n",
        "- 当我们选择K为6，也就是 TOP6 时，我们会选择6个概率最大的可能文本，\n",
        "- 对于左边这个较为稀疏的概率分布状况，我们会比较均匀的获取到6个可能的选择，但是剔除掉的其他概率也不低的选择，这些文本看起来也是有可能会作为文本生成过程中的要素的内容的\n",
        "- 但是语义右侧而言，我们则是获取到了概率分布不那么均匀的文本，剔除了一些不太合理的选择，但是却保留了 down 和 a 这样的文本"
      ],
      "metadata": {
        "id": "jz8qpeCJ2DJh"
      }
    },
    {
      "cell_type": "code",
      "source": [
        "# set seed to reproduce results. Feel free to change the seed though to get different results\n",
        "tf.random.set_seed(0)\n",
        "\n",
        "# set top_k to 50\n",
        "sample_output = model.generate(\n",
        "    input_ids, \n",
        "    do_sample=True, \n",
        "    max_length=50, \n",
        "    top_k=50\n",
        ")\n",
        "\n",
        "print(\"Output:\\n\" + 100 * '-')\n",
        "print(tokenizer.decode(sample_output[0], skip_special_tokens=True))"
      ],
      "metadata": {
        "colab": {
          "base_uri": "https://localhost:8080/"
        },
        "id": "sXcM5ro31l5R",
        "outputId": "7a6d0b4b-ce79-4f87-a944-44dd5f28c89c"
      },
      "execution_count": 12,
      "outputs": [
        {
          "output_type": "stream",
          "name": "stdout",
          "text": [
            "Output:\n",
            "----------------------------------------------------------------------------------------------------\n",
            "I enjoy walking with my cute dog in the street from 2 1/2 miles (just before sunset) to 3 miles. But there are a few things that you need to know! It's NOT A REPUBLICANS EXCELLENT!\n"
          ]
        }
      ]
    },
    {
      "cell_type": "markdown",
      "source": [
        "我们可以看到，相比于之前的结果，我们获取了相当不错的成果。\n",
        "\n",
        "但是，TOP-K 的 K 作为一个超参数，必然会带来一些超参数的fine-tune问题，K作为一个正整数，无法动态地应对不同时间步的文本概率分布（平滑和尖锐的概率分布）\n",
        "\n",
        "因此，将样本池限制为固定大小 K 可能会导致模型在遇到尖锐的概率分布时产生毫无意义的文本，同时却限制了模型在面对平滑分布时的创造力"
      ],
      "metadata": {
        "id": "tsmKrBWA3kDF"
      }
    },
    {
      "cell_type": "markdown",
      "source": [
        "## Top-P(Nucleus) Sampling\n",
        "\n",
        "于是，针对 Top-P scaling 的问题，[Ari Holtzman et al. (2019)](https://arxiv.org/abs/1904.09751) 论文中提出了一个动态的方案 Top-P scaling\n",
        "\n",
        "- 与固定的K值不同，从累积概率超过概率 p 的最小可能单词集中选择文本作为备选，换句话来说，就是将固定的数字选择转换为动态的概率分布选择，以规避概率分布形状不同导致的选择问题（这样创建的子集数量是波动的）\n",
        "- 与Top-P同样的思路，选择之后子集再进行 softmax 重新计算概率分布\n",
        "\n",
        "![topp](https://huggingface.co/blog/assets/02_how-to-generate/top_p_sampling.png)\n",
        "\n",
        "- 在设置 p = 0.92 的情况下，对于第一个平滑的概率分布，我们会选取到9个候选词；而对第二个尖锐的概率分布而言，我们则只会选择3个候选词，有效地解决了分布形态的问题"
      ],
      "metadata": {
        "id": "RptCcHhH4nDj"
      }
    },
    {
      "cell_type": "code",
      "source": [
        "# set seed to reproduce results. Feel free to change the seed though to get different results\n",
        "tf.random.set_seed(0)\n",
        "\n",
        "# deactivate top_k sampling and sample only from 92% most likely words\n",
        "# 注意设置topk 为0，而top-p则设置为0.92 确保效果的独立性\n",
        "# topk与topp 并不是不能混用\n",
        "sample_output = model.generate(\n",
        "    input_ids, \n",
        "    do_sample=True, \n",
        "    max_length=50, \n",
        "    top_p=0.92, \n",
        "    top_k=0\n",
        ")\n",
        "\n",
        "print(\"Output:\\n\" + 100 * '-')\n",
        "print(tokenizer.decode(sample_output[0], skip_special_tokens=True))"
      ],
      "metadata": {
        "colab": {
          "base_uri": "https://localhost:8080/"
        },
        "id": "m-zq6DlV3cBB",
        "outputId": "c2efeeba-7a72-4a59-f52c-c8745059380e"
      },
      "execution_count": 13,
      "outputs": [
        {
          "output_type": "stream",
          "name": "stdout",
          "text": [
            "Output:\n",
            "----------------------------------------------------------------------------------------------------\n",
            "I enjoy walking with my cute dog and very often see her immediately excited at moving on.\" - Alicia Davis\n",
            "\n",
            "Recently, running around Los Angeles on an expeditions had me thinking, \"What'd I get for free here?\" I worked as a\n"
          ]
        }
      ]
    },
    {
      "cell_type": "markdown",
      "source": [
        "看起来，写出来的文本更有故事的味道了，虽然不知道是什么故事\n",
        "\n",
        "虽然我们刚刚的代码中，没有加入 topk的参数，但是从实际应用上，我们可以将topk和topp混合使用，可以解决在平均概率较低的平滑分布上，选取某些的极低概率的词"
      ],
      "metadata": {
        "id": "VDI8jdm06KPR"
      }
    },
    {
      "cell_type": "code",
      "source": [
        "# 结合topk 和 topp 来试试效果\n",
        "# set seed to reproduce results. Feel free to change the seed though to get different results\n",
        "tf.random.set_seed(0)\n",
        "\n",
        "# set top_k = 50 and set top_p = 0.95 and num_return_sequences = 3\n",
        "sample_outputs = model.generate(\n",
        "    input_ids,\n",
        "    do_sample=True, \n",
        "    max_length=50, \n",
        "    top_k=50, \n",
        "    top_p=0.95, \n",
        "    num_return_sequences=3\n",
        ")\n",
        "\n",
        "print(\"Output:\\n\" + 100 * '-')\n",
        "for i, sample_output in enumerate(sample_outputs):\n",
        "  print(\"{}: {}\".format(i, tokenizer.decode(sample_output, skip_special_tokens=True)))"
      ],
      "metadata": {
        "colab": {
          "base_uri": "https://localhost:8080/"
        },
        "id": "2EmVabbP6EE6",
        "outputId": "6d8f7d30-101d-4bb8-dc74-13ba3a9f0105"
      },
      "execution_count": 14,
      "outputs": [
        {
          "output_type": "stream",
          "name": "stdout",
          "text": [
            "Output:\n",
            "----------------------------------------------------------------------------------------------------\n",
            "0: I enjoy walking with my cute dog\n",
            "\n",
            "In my life I love having fun\n",
            "\n",
            "What does it cost to feed a cat to get a heart attack?\n",
            "\n",
            "I think, this is actually a really good question: what are some of the\n",
            "1: I enjoy walking with my cute dog as much as I do driving my car. It's the best way to spend a Saturday without missing a beat.\n",
            "\n",
            "5/5 - My favorite weekend in my life. The weekend I really wanted is Tuesday\n",
            "2: I enjoy walking with my cute dog, I like to get a dog from the grocery store and it's been a pleasure to sit and talk to her (when she is sleeping), and she's been so happy with our visit to the supermarket (we\n"
          ]
        }
      ]
    },
    {
      "cell_type": "markdown",
      "source": [
        "相比于 Beam Search 的方式，我们生成的文本随机性更高了，并且并没有牺牲有效性（生成胡言乱语的文本）"
      ],
      "metadata": {
        "id": "iU6lXdFK7Vhe"
      }
    },
    {
      "cell_type": "markdown",
      "source": [
        "## Summary\n",
        "\n",
        "- 从目前业内尝试的经历来看，topp和topk 比 贪心搜索和Beam Search 生成的效果更好\n",
        "- 但是从学界的[论文](https://arxiv.org/pdf/1908.04319.pdf)来看，循环生成文本的问题似乎是模型导致的，而非生成文本的docode 方法导致的\n",
        "- 而且，[论文](https://arxiv.org/abs/2002.02492)表明，基于Topp和topk生成的文本也有重复的问题存在\n",
        "- 也有[论文](https://arxiv.org/pdf/1908.04319.pdf)表示，Beam search 相比于 Topk ，生成的文本经过人的评估更加流程\n"
      ],
      "metadata": {
        "id": "VHecPVwZ7lKP"
      }
    },
    {
      "cell_type": "code",
      "source": [],
      "metadata": {
        "id": "J4RCZs7m7TUO"
      },
      "execution_count": null,
      "outputs": []
    }
  ]
}